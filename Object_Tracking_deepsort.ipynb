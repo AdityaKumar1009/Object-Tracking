{
  "nbformat": 4,
  "nbformat_minor": 0,
  "metadata": {
    "colab": {
      "provenance": [],
      "gpuType": "T4"
    },
    "kernelspec": {
      "name": "python3",
      "display_name": "Python 3"
    },
    "language_info": {
      "name": "python"
    },
    "accelerator": "GPU"
  },
  "cells": [
    {
      "cell_type": "code",
      "execution_count": null,
      "metadata": {
        "id": "onCIGY1NSlxa"
      },
      "outputs": [],
      "source": [
        "!pip install ultralytics deep_sort_realtime opencv-python --quiet"
      ]
    },
    {
      "cell_type": "code",
      "source": [
        "import cv2\n",
        "from ultralytics import YOLO\n",
        "from deep_sort_realtime.deepsort_tracker import DeepSort\n",
        "from google.colab import files\n",
        "import os"
      ],
      "metadata": {
        "id": "QynHdgnDSsJK"
      },
      "execution_count": null,
      "outputs": []
    },
    {
      "cell_type": "code",
      "source": [
        "input_video_path = '/content/palace.mp4'"
      ],
      "metadata": {
        "id": "cnIX6nwCSuNV"
      },
      "execution_count": null,
      "outputs": []
    },
    {
      "cell_type": "code",
      "source": [
        "model = YOLO('yolov8l.pt')  # YOLOv8 Nano for speed\n",
        "tracker = DeepSort(max_age=35)"
      ],
      "metadata": {
        "colab": {
          "base_uri": "https://localhost:8080/"
        },
        "id": "R9se-BCmS0-H",
        "outputId": "3680c06f-2242-4498-b1c2-c1b2a2642ae2"
      },
      "execution_count": null,
      "outputs": [
        {
          "output_type": "stream",
          "name": "stdout",
          "text": [
            "Downloading https://github.com/ultralytics/assets/releases/download/v8.3.0/yolov8l.pt to 'yolov8l.pt'...\n"
          ]
        },
        {
          "output_type": "stream",
          "name": "stderr",
          "text": [
            "100%|██████████| 83.7M/83.7M [00:00<00:00, 217MB/s]\n"
          ]
        }
      ]
    },
    {
      "cell_type": "code",
      "source": [
        "cap = cv2.VideoCapture(input_video_path)\n",
        "\n",
        "# Output video settings\n",
        "output_path = 'output.mp4'\n",
        "fourcc = cv2.VideoWriter_fourcc(*'mp4v')\n",
        "fps = cap.get(cv2.CAP_PROP_FPS)\n",
        "w = int(cap.get(cv2.CAP_PROP_FRAME_WIDTH))\n",
        "h = int(cap.get(cv2.CAP_PROP_FRAME_HEIGHT))\n",
        "out = cv2.VideoWriter(output_path, fourcc, fps, (w, h))\n",
        "\n",
        "# Data Structures\n",
        "seen_objects = {}   # object_id : last_seen_frame\n",
        "new_objects = set()\n",
        "missing_objects = set()\n",
        "frame_count = 0"
      ],
      "metadata": {
        "id": "Xt5kyi5QS6kK"
      },
      "execution_count": null,
      "outputs": []
    },
    {
      "cell_type": "code",
      "source": [
        "while True:\n",
        "    ret, frame = cap.read()\n",
        "    if not ret:\n",
        "        break\n",
        "\n",
        "    frame_count += 1\n",
        "    current_ids = set()\n",
        "\n",
        "    # Step 1: Detect objects\n",
        "    results = model.predict(source=frame, conf=0.5, verbose=False)[0]\n",
        "\n",
        "    # Prepare detections for DeepSORT\n",
        "    detections = []\n",
        "    for box in results.boxes:\n",
        "        x1, y1, x2, y2 = map(int, box.xyxy[0])\n",
        "        conf = float(box.conf[0])\n",
        "        cls = int(box.cls[0])\n",
        "        detections.append(([x1, y1, x2 - x1, y2 - y1], conf, cls))\n",
        "\n",
        "    # Step 2: Update tracker\n",
        "    tracks = tracker.update_tracks(detections, frame=frame)\n",
        "\n",
        "    # Step 3: Analyze tracks\n",
        "    for track in tracks:\n",
        "        if not track.is_confirmed():\n",
        "            continue\n",
        "\n",
        "        track_id = track.track_id\n",
        "        current_ids.add(track_id)\n",
        "\n",
        "        # New object detection\n",
        "        if track_id not in seen_objects:\n",
        "            print(f\"[Frame {frame_count}] New object detected: ID {track_id}\")\n",
        "            new_objects.add(track_id)\n",
        "\n",
        "        # Update last seen\n",
        "        seen_objects[track_id] = frame_count\n",
        "\n",
        "        # Draw bounding box\n",
        "        l, t, w_, h_ = track.to_ltrb()\n",
        "        cv2.rectangle(frame, (int(l), int(t)), (int(w_), int(h_)), (0, 255, 0), 2)\n",
        "        cv2.putText(frame, f'ID {track_id}', (int(l), int(t) - 10),\n",
        "                    cv2.FONT_HERSHEY_SIMPLEX, 0.6, (0, 255, 0), 2)\n",
        "\n",
        "    # Step 4: Check for missing objects\n",
        "    for obj_id in list(seen_objects.keys()):\n",
        "        if obj_id not in current_ids:\n",
        "            if frame_count - seen_objects[obj_id] > 30:\n",
        "                if obj_id not in missing_objects:\n",
        "                    print(f\"[Frame {frame_count}] Missing object detected: ID {obj_id}\")\n",
        "                    missing_objects.add(obj_id)\n",
        "\n",
        "    # Step 5: Write output frame\n",
        "    out.write(frame)\n",
        "\n",
        "cap.release()\n",
        "out.release()\n",
        "\n",
        "print(\"✅ Video processing complete. Saving file...\")"
      ],
      "metadata": {
        "colab": {
          "base_uri": "https://localhost:8080/"
        },
        "id": "eq6B-fy-S7qt",
        "outputId": "0b670f28-5eff-4d67-d409-d2108de1ee49"
      },
      "execution_count": null,
      "outputs": [
        {
          "output_type": "stream",
          "name": "stdout",
          "text": [
            "[Frame 3] New object detected: ID 1\n",
            "[Frame 3] New object detected: ID 2\n",
            "[Frame 3] New object detected: ID 3\n",
            "[Frame 3] New object detected: ID 4\n",
            "[Frame 3] New object detected: ID 5\n",
            "[Frame 3] New object detected: ID 6\n",
            "[Frame 3] New object detected: ID 7\n",
            "[Frame 3] New object detected: ID 8\n",
            "[Frame 3] New object detected: ID 9\n",
            "[Frame 3] New object detected: ID 10\n",
            "[Frame 3] New object detected: ID 11\n",
            "[Frame 3] New object detected: ID 12\n",
            "[Frame 3] New object detected: ID 14\n",
            "[Frame 4] New object detected: ID 16\n",
            "[Frame 7] New object detected: ID 17\n",
            "[Frame 10] New object detected: ID 18\n",
            "[Frame 11] New object detected: ID 19\n",
            "[Frame 14] New object detected: ID 20\n",
            "[Frame 31] New object detected: ID 31\n",
            "[Frame 33] New object detected: ID 33\n",
            "[Frame 38] New object detected: ID 34\n",
            "[Frame 51] New object detected: ID 36\n",
            "[Frame 57] New object detected: ID 37\n",
            "[Frame 67] New object detected: ID 39\n",
            "[Frame 71] New object detected: ID 40\n",
            "[Frame 76] New object detected: ID 41\n",
            "[Frame 81] Missing object detected: ID 17\n",
            "[Frame 106] Missing object detected: ID 9\n",
            "[Frame 108] Missing object detected: ID 11\n",
            "[Frame 114] New object detected: ID 46\n",
            "[Frame 117] Missing object detected: ID 31\n",
            "[Frame 117] Missing object detected: ID 33\n",
            "[Frame 129] New object detected: ID 50\n",
            "[Frame 139] Missing object detected: ID 37\n",
            "[Frame 151] Missing object detected: ID 10\n",
            "[Frame 164] Missing object detected: ID 2\n",
            "[Frame 171] New object detected: ID 55\n",
            "[Frame 181] Missing object detected: ID 20\n",
            "[Frame 182] New object detected: ID 57\n",
            "[Frame 182] New object detected: ID 58\n",
            "[Frame 187] New object detected: ID 60\n",
            "[Frame 192] Missing object detected: ID 46\n",
            "[Frame 193] New object detected: ID 61\n",
            "[Frame 193] Missing object detected: ID 5\n",
            "[Frame 200] Missing object detected: ID 50\n",
            "[Frame 202] Missing object detected: ID 18\n",
            "[Frame 204] New object detected: ID 62\n",
            "[Frame 204] New object detected: ID 63\n",
            "[Frame 204] Missing object detected: ID 41\n",
            "[Frame 205] New object detected: ID 64\n",
            "[Frame 218] New object detected: ID 65\n",
            "[Frame 219] New object detected: ID 66\n",
            "[Frame 223] New object detected: ID 67\n",
            "[Frame 234] Missing object detected: ID 19\n",
            "[Frame 235] New object detected: ID 71\n",
            "[Frame 236] New object detected: ID 72\n",
            "[Frame 238] Missing object detected: ID 8\n",
            "[Frame 253] New object detected: ID 75\n",
            "[Frame 261] Missing object detected: ID 34\n",
            "[Frame 264] Missing object detected: ID 61\n",
            "[Frame 265] Missing object detected: ID 57\n",
            "[Frame 266] New object detected: ID 78\n",
            "[Frame 266] Missing object detected: ID 60\n",
            "[Frame 275] New object detected: ID 79\n",
            "[Frame 280] Missing object detected: ID 14\n",
            "[Frame 281] New object detected: ID 81\n",
            "[Frame 290] Missing object detected: ID 39\n",
            "[Frame 295] New object detected: ID 88\n",
            "[Frame 299] Missing object detected: ID 58\n",
            "[Frame 300] New object detected: ID 91\n",
            "[Frame 303] Missing object detected: ID 16\n",
            "[Frame 307] New object detected: ID 97\n",
            "[Frame 314] Missing object detected: ID 64\n",
            "[Frame 319] New object detected: ID 100\n",
            "[Frame 324] Missing object detected: ID 63\n",
            "✅ Video processing complete. Saving file...\n"
          ]
        }
      ]
    }
  ]
}